{
 "cells": [
  {
   "cell_type": "code",
   "execution_count": null,
   "metadata": {},
   "outputs": [],
   "source": [
    "import pandas as pd\n",
    "df = pd.read_csv('NCELPick3.csv')\n",
    "new = df[\"Date\"].str.split(\"/\", n = 0, expand = True)\n",
    "#df[pd.to_numeric(df['Date'], errors='coerce').notnull()]\n",
    "#df['Date'] = pd.to_datetime(df['Date'])\n",
    "df = df.drop('Date',axis=1)\n",
    "new = new[pd.to_numeric(new[0], errors='coerce').notnull()]\n",
    "new.head()\n",
    "df['Date'] = new.apply(lambda row: '/'.join(row.dropna()), axis=1)\n",
    "## Drop Unimportant (for now) columns\n",
    "df = df.drop('GreenBall',axis=1)\n",
    "df = df.drop('DoubleDraw*',axis=1)\n",
    "df['Date'] = pd.to_datetime(df['Date'])\n",
    "df[[\"Number 1\", \"Number 2\"]] = df[[\"Number 1\", \"Number 2\"]].apply(pd.to_numeric)\n",
    "pd.options.display.float_format = '{:,.0f}'.format\n",
    "df.head()"
   ]
  },
  {
   "cell_type": "code",
   "execution_count": null,
   "metadata": {},
   "outputs": [],
   "source": [
    "## Only Evening Draws\n",
    "df = df[~df['Day/Eve'].isin(['D'])]\n",
    "df.head()"
   ]
  },
  {
   "cell_type": "code",
   "execution_count": 169,
   "metadata": {},
   "outputs": [
    {
     "data": {
      "text/plain": [
       "1    509\n",
       "0    485\n",
       "8    481\n",
       "2    471\n",
       "5    470\n",
       "3    464\n",
       "6    458\n",
       "4    457\n",
       "9    451\n",
       "7    421\n",
       "Name: Number 1, dtype: int64"
      ]
     },
     "execution_count": 169,
     "metadata": {},
     "output_type": "execute_result"
    }
   ],
   "source": [
    "df['Number 1'].value_counts()[df['Number 1'].value_counts() == df['Number 1'].value_counts()]"
   ]
  },
  {
   "cell_type": "code",
   "execution_count": null,
   "metadata": {},
   "outputs": [],
   "source": []
  }
 ],
 "metadata": {
  "kernelspec": {
   "display_name": "Python 3",
   "language": "python",
   "name": "python3"
  },
  "language_info": {
   "codemirror_mode": {
    "name": "ipython",
    "version": 3
   },
   "file_extension": ".py",
   "mimetype": "text/x-python",
   "name": "python",
   "nbconvert_exporter": "python",
   "pygments_lexer": "ipython3",
   "version": "3.5.2"
  }
 },
 "nbformat": 4,
 "nbformat_minor": 2
}
